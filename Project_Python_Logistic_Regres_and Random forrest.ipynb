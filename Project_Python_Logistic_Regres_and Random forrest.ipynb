{
 "cells": [
  {
   "cell_type": "code",
   "execution_count": 121,
   "id": "2fd9903b",
   "metadata": {},
   "outputs": [],
   "source": [
    "import pandas as pd\n",
    "import numpy as np \n",
    "import matplotlib.pyplot as plt\n",
    "from sklearn import linear_model\n",
    "import seaborn as sns\n",
    "import csv\n",
    "import pprint\n",
    "import dateutil\n",
    "from encodings.aliases import aliases"
   ]
  },
  {
   "cell_type": "code",
   "execution_count": 122,
   "id": "7a4a0e6d",
   "metadata": {},
   "outputs": [],
   "source": [
    "def getEncodingFormatOfCSV(f):\n",
    "    alias_values = set(aliases.values())\n",
    "    for encoding in set(aliases.values()):\n",
    "        try:\n",
    "            df=pd.read_csv(f, encoding=encoding)\n",
    "            return(encoding)\n",
    "        except:\n",
    "            pass\n",
    "f_csv=r'D:\\local\\Data Science\\Hop Health\\Sample File\\ECG_Normal_PVC_Noise_without time.csv'\n",
    "df = pd.read_csv(f_csv,encoding=getEncodingFormatOfCSV(f_csv))\n",
    "#df=pd.read_csv(address,index_col='Title',parse_dates=True,encoding='latin1') #here i am using encoding attribute"
   ]
  },
  {
   "cell_type": "code",
   "execution_count": 123,
   "id": "6656b4bf",
   "metadata": {},
   "outputs": [
    {
     "name": "stdout",
     "output_type": "stream",
     "text": [
      "       Elapsed_Time  ECG_Person1  ECG_Person2  ECG_Person3  ECG_Person4  \\\n",
      "0             0.000       -0.115        0.020        0.020       -0.090   \n",
      "1             0.002       -0.115        0.015       -0.040       -0.015   \n",
      "2             0.004       -0.120        0.005       -0.060        0.030   \n",
      "3             0.006       -0.120        0.000       -0.070        0.060   \n",
      "4             0.008       -0.120       -0.010       -0.055        0.065   \n",
      "...             ...          ...          ...          ...          ...   \n",
      "10795         7.190       -0.130       -1.010        1.625       -0.170   \n",
      "10796         7.192       -0.105       -1.020        1.580       -0.140   \n",
      "10797         7.194       -0.125       -1.040        1.555       -0.105   \n",
      "10798         7.196       -0.165       -1.050        1.525       -0.080   \n",
      "10799         7.198       -0.175       -1.050        1.535       -0.080   \n",
      "\n",
      "       ECG_Person5 ECG_Type  \n",
      "0            0.000   Normal  \n",
      "1           -0.015   Normal  \n",
      "2           -0.030   Normal  \n",
      "3           -0.040   Normal  \n",
      "4           -0.055   Normal  \n",
      "...            ...      ...  \n",
      "10795        0.025    Noise  \n",
      "10796        0.025    Noise  \n",
      "10797        0.025    Noise  \n",
      "10798        0.025    Noise  \n",
      "10799        0.025    Noise  \n",
      "\n",
      "[10800 rows x 7 columns]\n"
     ]
    }
   ],
   "source": [
    "#Part-1: Data Exploration and Pre-processing\n",
    "#1) load the given dataset\n",
    "print(df)"
   ]
  },
  {
   "cell_type": "code",
   "execution_count": 124,
   "id": "9e2a47ad",
   "metadata": {},
   "outputs": [
    {
     "data": {
      "text/plain": [
       "Index(['Elapsed_Time', 'ECG_Person1', 'ECG_Person2', 'ECG_Person3',\n",
       "       'ECG_Person4', 'ECG_Person5', 'ECG_Type'],\n",
       "      dtype='object')"
      ]
     },
     "execution_count": 124,
     "metadata": {},
     "output_type": "execute_result"
    }
   ],
   "source": [
    "#2) print all the column names\n",
    "df.columns"
   ]
  },
  {
   "cell_type": "code",
   "execution_count": 125,
   "id": "d452b3bf",
   "metadata": {},
   "outputs": [
    {
     "data": {
      "text/html": [
       "<div>\n",
       "<style scoped>\n",
       "    .dataframe tbody tr th:only-of-type {\n",
       "        vertical-align: middle;\n",
       "    }\n",
       "\n",
       "    .dataframe tbody tr th {\n",
       "        vertical-align: top;\n",
       "    }\n",
       "\n",
       "    .dataframe thead th {\n",
       "        text-align: right;\n",
       "    }\n",
       "</style>\n",
       "<table border=\"1\" class=\"dataframe\">\n",
       "  <thead>\n",
       "    <tr style=\"text-align: right;\">\n",
       "      <th></th>\n",
       "      <th>Elapsed_Time</th>\n",
       "      <th>ECG_Person1</th>\n",
       "      <th>ECG_Person2</th>\n",
       "      <th>ECG_Person3</th>\n",
       "      <th>ECG_Person4</th>\n",
       "      <th>ECG_Person5</th>\n",
       "    </tr>\n",
       "  </thead>\n",
       "  <tbody>\n",
       "    <tr>\n",
       "      <th>count</th>\n",
       "      <td>10800.000000</td>\n",
       "      <td>10800.000000</td>\n",
       "      <td>10800.000000</td>\n",
       "      <td>10800.000000</td>\n",
       "      <td>10800.000000</td>\n",
       "      <td>10800.000000</td>\n",
       "    </tr>\n",
       "    <tr>\n",
       "      <th>mean</th>\n",
       "      <td>3.599000</td>\n",
       "      <td>-0.028279</td>\n",
       "      <td>0.026592</td>\n",
       "      <td>-0.039257</td>\n",
       "      <td>0.009605</td>\n",
       "      <td>0.009067</td>\n",
       "    </tr>\n",
       "    <tr>\n",
       "      <th>std</th>\n",
       "      <td>2.078557</td>\n",
       "      <td>0.299860</td>\n",
       "      <td>0.296507</td>\n",
       "      <td>0.375888</td>\n",
       "      <td>0.112565</td>\n",
       "      <td>0.121349</td>\n",
       "    </tr>\n",
       "    <tr>\n",
       "      <th>min</th>\n",
       "      <td>0.000000</td>\n",
       "      <td>-1.430000</td>\n",
       "      <td>-1.050000</td>\n",
       "      <td>-1.305000</td>\n",
       "      <td>-0.465000</td>\n",
       "      <td>-0.810000</td>\n",
       "    </tr>\n",
       "    <tr>\n",
       "      <th>25%</th>\n",
       "      <td>1.799500</td>\n",
       "      <td>-0.100000</td>\n",
       "      <td>-0.045000</td>\n",
       "      <td>-0.101000</td>\n",
       "      <td>-0.045000</td>\n",
       "      <td>-0.037000</td>\n",
       "    </tr>\n",
       "    <tr>\n",
       "      <th>50%</th>\n",
       "      <td>3.599000</td>\n",
       "      <td>-0.015000</td>\n",
       "      <td>0.010000</td>\n",
       "      <td>-0.027000</td>\n",
       "      <td>-0.006000</td>\n",
       "      <td>0.007000</td>\n",
       "    </tr>\n",
       "    <tr>\n",
       "      <th>75%</th>\n",
       "      <td>5.398500</td>\n",
       "      <td>0.065000</td>\n",
       "      <td>0.105000</td>\n",
       "      <td>0.040000</td>\n",
       "      <td>0.030000</td>\n",
       "      <td>0.053000</td>\n",
       "    </tr>\n",
       "    <tr>\n",
       "      <th>max</th>\n",
       "      <td>7.198000</td>\n",
       "      <td>1.965000</td>\n",
       "      <td>0.845000</td>\n",
       "      <td>1.840000</td>\n",
       "      <td>0.688000</td>\n",
       "      <td>0.754000</td>\n",
       "    </tr>\n",
       "  </tbody>\n",
       "</table>\n",
       "</div>"
      ],
      "text/plain": [
       "       Elapsed_Time   ECG_Person1   ECG_Person2   ECG_Person3   ECG_Person4  \\\n",
       "count  10800.000000  10800.000000  10800.000000  10800.000000  10800.000000   \n",
       "mean       3.599000     -0.028279      0.026592     -0.039257      0.009605   \n",
       "std        2.078557      0.299860      0.296507      0.375888      0.112565   \n",
       "min        0.000000     -1.430000     -1.050000     -1.305000     -0.465000   \n",
       "25%        1.799500     -0.100000     -0.045000     -0.101000     -0.045000   \n",
       "50%        3.599000     -0.015000      0.010000     -0.027000     -0.006000   \n",
       "75%        5.398500      0.065000      0.105000      0.040000      0.030000   \n",
       "max        7.198000      1.965000      0.845000      1.840000      0.688000   \n",
       "\n",
       "        ECG_Person5  \n",
       "count  10800.000000  \n",
       "mean       0.009067  \n",
       "std        0.121349  \n",
       "min       -0.810000  \n",
       "25%       -0.037000  \n",
       "50%        0.007000  \n",
       "75%        0.053000  \n",
       "max        0.754000  "
      ]
     },
     "execution_count": 125,
     "metadata": {},
     "output_type": "execute_result"
    }
   ],
   "source": [
    "#3) describe the data\n",
    "df.describe()"
   ]
  },
  {
   "cell_type": "code",
   "execution_count": 126,
   "id": "b0afb7a4",
   "metadata": {},
   "outputs": [
    {
     "data": {
      "text/plain": [
       "Elapsed_Time    0\n",
       "ECG_Person1     0\n",
       "ECG_Person2     0\n",
       "ECG_Person3     0\n",
       "ECG_Person4     0\n",
       "ECG_Person5     0\n",
       "ECG_Type        0\n",
       "dtype: int64"
      ]
     },
     "execution_count": 126,
     "metadata": {},
     "output_type": "execute_result"
    }
   ],
   "source": [
    "#4) check the null value\n",
    "df.isnull().sum()"
   ]
  },
  {
   "cell_type": "code",
   "execution_count": 130,
   "id": "40253547",
   "metadata": {},
   "outputs": [
    {
     "name": "stdout",
     "output_type": "stream",
     "text": [
      "       Elapsed_Time  ECG_Person1  ECG_Person2  ECG_Person3  ECG_Person4  \\\n",
      "0             0.000       -0.115        0.020        0.020       -0.090   \n",
      "1             0.002       -0.115        0.015       -0.040       -0.015   \n",
      "2             0.004       -0.120        0.005       -0.060        0.030   \n",
      "3             0.006       -0.120        0.000       -0.070        0.060   \n",
      "4             0.008       -0.120       -0.010       -0.055        0.065   \n",
      "...             ...          ...          ...          ...          ...   \n",
      "10795         7.190       -0.130       -1.010        1.625       -0.170   \n",
      "10796         7.192       -0.105       -1.020        1.580       -0.140   \n",
      "10797         7.194       -0.125       -1.040        1.555       -0.105   \n",
      "10798         7.196       -0.165       -1.050        1.525       -0.080   \n",
      "10799         7.198       -0.175       -1.050        1.535       -0.080   \n",
      "\n",
      "       ECG_Person5  ECG_Type_Noise  ECG_Type_Normal  ECG_Type_PVC  \n",
      "0            0.000               0                1             0  \n",
      "1           -0.015               0                1             0  \n",
      "2           -0.030               0                1             0  \n",
      "3           -0.040               0                1             0  \n",
      "4           -0.055               0                1             0  \n",
      "...            ...             ...              ...           ...  \n",
      "10795        0.025               1                0             0  \n",
      "10796        0.025               1                0             0  \n",
      "10797        0.025               1                0             0  \n",
      "10798        0.025               1                0             0  \n",
      "10799        0.025               1                0             0  \n",
      "\n",
      "[10800 rows x 9 columns]\n"
     ]
    }
   ],
   "source": [
    "one_hot_encoded_data = pd.get_dummies(df, columns = ['ECG_Type'])\n",
    "print(one_hot_encoded_data)"
   ]
  },
  {
   "cell_type": "code",
   "execution_count": 129,
   "id": "682d2a4e",
   "metadata": {},
   "outputs": [
    {
     "data": {
      "text/html": [
       "<div>\n",
       "<style scoped>\n",
       "    .dataframe tbody tr th:only-of-type {\n",
       "        vertical-align: middle;\n",
       "    }\n",
       "\n",
       "    .dataframe tbody tr th {\n",
       "        vertical-align: top;\n",
       "    }\n",
       "\n",
       "    .dataframe thead th {\n",
       "        text-align: right;\n",
       "    }\n",
       "</style>\n",
       "<table border=\"1\" class=\"dataframe\">\n",
       "  <thead>\n",
       "    <tr style=\"text-align: right;\">\n",
       "      <th></th>\n",
       "      <th>Elapsed_Time</th>\n",
       "      <th>ECG_Person1</th>\n",
       "      <th>ECG_Person2</th>\n",
       "      <th>ECG_Person3</th>\n",
       "      <th>ECG_Person4</th>\n",
       "      <th>ECG_Person5</th>\n",
       "      <th>ECG_Type</th>\n",
       "    </tr>\n",
       "  </thead>\n",
       "  <tbody>\n",
       "    <tr>\n",
       "      <th>0</th>\n",
       "      <td>0.000</td>\n",
       "      <td>-0.115</td>\n",
       "      <td>0.020</td>\n",
       "      <td>0.020</td>\n",
       "      <td>-0.090</td>\n",
       "      <td>0.000</td>\n",
       "      <td>Normal</td>\n",
       "    </tr>\n",
       "    <tr>\n",
       "      <th>1</th>\n",
       "      <td>0.002</td>\n",
       "      <td>-0.115</td>\n",
       "      <td>0.015</td>\n",
       "      <td>-0.040</td>\n",
       "      <td>-0.015</td>\n",
       "      <td>-0.015</td>\n",
       "      <td>Normal</td>\n",
       "    </tr>\n",
       "    <tr>\n",
       "      <th>2</th>\n",
       "      <td>0.004</td>\n",
       "      <td>-0.120</td>\n",
       "      <td>0.005</td>\n",
       "      <td>-0.060</td>\n",
       "      <td>0.030</td>\n",
       "      <td>-0.030</td>\n",
       "      <td>Normal</td>\n",
       "    </tr>\n",
       "    <tr>\n",
       "      <th>3</th>\n",
       "      <td>0.006</td>\n",
       "      <td>-0.120</td>\n",
       "      <td>0.000</td>\n",
       "      <td>-0.070</td>\n",
       "      <td>0.060</td>\n",
       "      <td>-0.040</td>\n",
       "      <td>Normal</td>\n",
       "    </tr>\n",
       "    <tr>\n",
       "      <th>4</th>\n",
       "      <td>0.008</td>\n",
       "      <td>-0.120</td>\n",
       "      <td>-0.010</td>\n",
       "      <td>-0.055</td>\n",
       "      <td>0.065</td>\n",
       "      <td>-0.055</td>\n",
       "      <td>Normal</td>\n",
       "    </tr>\n",
       "  </tbody>\n",
       "</table>\n",
       "</div>"
      ],
      "text/plain": [
       "   Elapsed_Time  ECG_Person1  ECG_Person2  ECG_Person3  ECG_Person4  \\\n",
       "0         0.000       -0.115        0.020        0.020       -0.090   \n",
       "1         0.002       -0.115        0.015       -0.040       -0.015   \n",
       "2         0.004       -0.120        0.005       -0.060        0.030   \n",
       "3         0.006       -0.120        0.000       -0.070        0.060   \n",
       "4         0.008       -0.120       -0.010       -0.055        0.065   \n",
       "\n",
       "   ECG_Person5 ECG_Type  \n",
       "0        0.000   Normal  \n",
       "1       -0.015   Normal  \n",
       "2       -0.030   Normal  \n",
       "3       -0.040   Normal  \n",
       "4       -0.055   Normal  "
      ]
     },
     "execution_count": 129,
     "metadata": {},
     "output_type": "execute_result"
    }
   ],
   "source": [
    "df.head()"
   ]
  },
  {
   "cell_type": "code",
   "execution_count": null,
   "id": "6e30593b",
   "metadata": {},
   "outputs": [],
   "source": [
    "#Part-2: Working with Model\n"
   ]
  },
  {
   "cell_type": "code",
   "execution_count": 135,
   "id": "445dad34",
   "metadata": {},
   "outputs": [
    {
     "data": {
      "text/plain": [
       "0        Normal\n",
       "1        Normal\n",
       "2        Normal\n",
       "3        Normal\n",
       "4        Normal\n",
       "          ...  \n",
       "10795     Noise\n",
       "10796     Noise\n",
       "10797     Noise\n",
       "10798     Noise\n",
       "10799     Noise\n",
       "Name: ECG_Type, Length: 10800, dtype: object"
      ]
     },
     "execution_count": 135,
     "metadata": {},
     "output_type": "execute_result"
    }
   ],
   "source": [
    "#1) Separate feature data from target data\n",
    "X = df.drop('ECG_Type',axis=1)\n",
    "y=df['ECG_Type']\n",
    "y"
   ]
  },
  {
   "cell_type": "code",
   "execution_count": 136,
   "id": "7512ab74",
   "metadata": {},
   "outputs": [],
   "source": [
    "from sklearn.model_selection import train_test_split\n",
    "X_train, X_test, y_train, y_test = train_test_split(X, y, test_size = 0.2, random_state = 42)"
   ]
  },
  {
   "cell_type": "code",
   "execution_count": 137,
   "id": "ff5643d1",
   "metadata": {},
   "outputs": [],
   "source": [
    "from sklearn.linear_model import LogisticRegression"
   ]
  },
  {
   "cell_type": "code",
   "execution_count": 138,
   "id": "b4bdf243",
   "metadata": {},
   "outputs": [
    {
     "data": {
      "text/html": [
       "<style>#sk-container-id-12 {color: black;background-color: white;}#sk-container-id-12 pre{padding: 0;}#sk-container-id-12 div.sk-toggleable {background-color: white;}#sk-container-id-12 label.sk-toggleable__label {cursor: pointer;display: block;width: 100%;margin-bottom: 0;padding: 0.3em;box-sizing: border-box;text-align: center;}#sk-container-id-12 label.sk-toggleable__label-arrow:before {content: \"▸\";float: left;margin-right: 0.25em;color: #696969;}#sk-container-id-12 label.sk-toggleable__label-arrow:hover:before {color: black;}#sk-container-id-12 div.sk-estimator:hover label.sk-toggleable__label-arrow:before {color: black;}#sk-container-id-12 div.sk-toggleable__content {max-height: 0;max-width: 0;overflow: hidden;text-align: left;background-color: #f0f8ff;}#sk-container-id-12 div.sk-toggleable__content pre {margin: 0.2em;color: black;border-radius: 0.25em;background-color: #f0f8ff;}#sk-container-id-12 input.sk-toggleable__control:checked~div.sk-toggleable__content {max-height: 200px;max-width: 100%;overflow: auto;}#sk-container-id-12 input.sk-toggleable__control:checked~label.sk-toggleable__label-arrow:before {content: \"▾\";}#sk-container-id-12 div.sk-estimator input.sk-toggleable__control:checked~label.sk-toggleable__label {background-color: #d4ebff;}#sk-container-id-12 div.sk-label input.sk-toggleable__control:checked~label.sk-toggleable__label {background-color: #d4ebff;}#sk-container-id-12 input.sk-hidden--visually {border: 0;clip: rect(1px 1px 1px 1px);clip: rect(1px, 1px, 1px, 1px);height: 1px;margin: -1px;overflow: hidden;padding: 0;position: absolute;width: 1px;}#sk-container-id-12 div.sk-estimator {font-family: monospace;background-color: #f0f8ff;border: 1px dotted black;border-radius: 0.25em;box-sizing: border-box;margin-bottom: 0.5em;}#sk-container-id-12 div.sk-estimator:hover {background-color: #d4ebff;}#sk-container-id-12 div.sk-parallel-item::after {content: \"\";width: 100%;border-bottom: 1px solid gray;flex-grow: 1;}#sk-container-id-12 div.sk-label:hover label.sk-toggleable__label {background-color: #d4ebff;}#sk-container-id-12 div.sk-serial::before {content: \"\";position: absolute;border-left: 1px solid gray;box-sizing: border-box;top: 0;bottom: 0;left: 50%;z-index: 0;}#sk-container-id-12 div.sk-serial {display: flex;flex-direction: column;align-items: center;background-color: white;padding-right: 0.2em;padding-left: 0.2em;position: relative;}#sk-container-id-12 div.sk-item {position: relative;z-index: 1;}#sk-container-id-12 div.sk-parallel {display: flex;align-items: stretch;justify-content: center;background-color: white;position: relative;}#sk-container-id-12 div.sk-item::before, #sk-container-id-12 div.sk-parallel-item::before {content: \"\";position: absolute;border-left: 1px solid gray;box-sizing: border-box;top: 0;bottom: 0;left: 50%;z-index: -1;}#sk-container-id-12 div.sk-parallel-item {display: flex;flex-direction: column;z-index: 1;position: relative;background-color: white;}#sk-container-id-12 div.sk-parallel-item:first-child::after {align-self: flex-end;width: 50%;}#sk-container-id-12 div.sk-parallel-item:last-child::after {align-self: flex-start;width: 50%;}#sk-container-id-12 div.sk-parallel-item:only-child::after {width: 0;}#sk-container-id-12 div.sk-dashed-wrapped {border: 1px dashed gray;margin: 0 0.4em 0.5em 0.4em;box-sizing: border-box;padding-bottom: 0.4em;background-color: white;}#sk-container-id-12 div.sk-label label {font-family: monospace;font-weight: bold;display: inline-block;line-height: 1.2em;}#sk-container-id-12 div.sk-label-container {text-align: center;}#sk-container-id-12 div.sk-container {/* jupyter's `normalize.less` sets `[hidden] { display: none; }` but bootstrap.min.css set `[hidden] { display: none !important; }` so we also need the `!important` here to be able to override the default hidden behavior on the sphinx rendered scikit-learn.org. See: https://github.com/scikit-learn/scikit-learn/issues/21755 */display: inline-block !important;position: relative;}#sk-container-id-12 div.sk-text-repr-fallback {display: none;}</style><div id=\"sk-container-id-12\" class=\"sk-top-container\"><div class=\"sk-text-repr-fallback\"><pre>LogisticRegression()</pre><b>In a Jupyter environment, please rerun this cell to show the HTML representation or trust the notebook. <br />On GitHub, the HTML representation is unable to render, please try loading this page with nbviewer.org.</b></div><div class=\"sk-container\" hidden><div class=\"sk-item\"><div class=\"sk-estimator sk-toggleable\"><input class=\"sk-toggleable__control sk-hidden--visually\" id=\"sk-estimator-id-12\" type=\"checkbox\" checked><label for=\"sk-estimator-id-12\" class=\"sk-toggleable__label sk-toggleable__label-arrow\">LogisticRegression</label><div class=\"sk-toggleable__content\"><pre>LogisticRegression()</pre></div></div></div></div></div>"
      ],
      "text/plain": [
       "LogisticRegression()"
      ]
     },
     "execution_count": 138,
     "metadata": {},
     "output_type": "execute_result"
    }
   ],
   "source": [
    "#2) Create a Logistic regression model between Features and target data\n",
    "model_log_reg = LogisticRegression()\n",
    "model_log_reg.fit(X_train,y_train)"
   ]
  },
  {
   "cell_type": "code",
   "execution_count": 139,
   "id": "0fa5a16c",
   "metadata": {},
   "outputs": [
    {
     "data": {
      "text/plain": [
       "0.5476851851851852"
      ]
     },
     "execution_count": 139,
     "metadata": {},
     "output_type": "execute_result"
    }
   ],
   "source": [
    "#3) Display the test score and training score\n",
    "model_log_reg.score(X_train,y_train)"
   ]
  },
  {
   "cell_type": "code",
   "execution_count": 140,
   "id": "fcfb8615",
   "metadata": {},
   "outputs": [
    {
     "data": {
      "text/plain": [
       "0.549074074074074"
      ]
     },
     "execution_count": 140,
     "metadata": {},
     "output_type": "execute_result"
    }
   ],
   "source": [
    "#3) Display the test score and training score\n",
    "model_log_reg.score(X_test,y_test)"
   ]
  },
  {
   "cell_type": "code",
   "execution_count": 141,
   "id": "31c0aebe",
   "metadata": {},
   "outputs": [],
   "source": [
    "y_pred = model_log_reg.predict(X_test)"
   ]
  },
  {
   "cell_type": "code",
   "execution_count": 142,
   "id": "36cbe8d0",
   "metadata": {},
   "outputs": [],
   "source": [
    "from sklearn.metrics import confusion_matrix"
   ]
  },
  {
   "cell_type": "code",
   "execution_count": 143,
   "id": "ef9671f1",
   "metadata": {},
   "outputs": [
    {
     "data": {
      "text/plain": [
       "array([[421, 154, 157],\n",
       "       [112, 418, 179],\n",
       "       [ 82, 290, 347]], dtype=int64)"
      ]
     },
     "execution_count": 143,
     "metadata": {},
     "output_type": "execute_result"
    }
   ],
   "source": [
    "#4) Display the Confusion Matrix\n",
    "confusion_matrix(y_test, y_pred)"
   ]
  },
  {
   "cell_type": "code",
   "execution_count": 147,
   "id": "0b66b4f1",
   "metadata": {},
   "outputs": [],
   "source": [
    "from sklearn.ensemble import RandomForestClassifier"
   ]
  },
  {
   "cell_type": "code",
   "execution_count": 148,
   "id": "796ecc3b",
   "metadata": {},
   "outputs": [
    {
     "data": {
      "text/html": [
       "<style>#sk-container-id-13 {color: black;background-color: white;}#sk-container-id-13 pre{padding: 0;}#sk-container-id-13 div.sk-toggleable {background-color: white;}#sk-container-id-13 label.sk-toggleable__label {cursor: pointer;display: block;width: 100%;margin-bottom: 0;padding: 0.3em;box-sizing: border-box;text-align: center;}#sk-container-id-13 label.sk-toggleable__label-arrow:before {content: \"▸\";float: left;margin-right: 0.25em;color: #696969;}#sk-container-id-13 label.sk-toggleable__label-arrow:hover:before {color: black;}#sk-container-id-13 div.sk-estimator:hover label.sk-toggleable__label-arrow:before {color: black;}#sk-container-id-13 div.sk-toggleable__content {max-height: 0;max-width: 0;overflow: hidden;text-align: left;background-color: #f0f8ff;}#sk-container-id-13 div.sk-toggleable__content pre {margin: 0.2em;color: black;border-radius: 0.25em;background-color: #f0f8ff;}#sk-container-id-13 input.sk-toggleable__control:checked~div.sk-toggleable__content {max-height: 200px;max-width: 100%;overflow: auto;}#sk-container-id-13 input.sk-toggleable__control:checked~label.sk-toggleable__label-arrow:before {content: \"▾\";}#sk-container-id-13 div.sk-estimator input.sk-toggleable__control:checked~label.sk-toggleable__label {background-color: #d4ebff;}#sk-container-id-13 div.sk-label input.sk-toggleable__control:checked~label.sk-toggleable__label {background-color: #d4ebff;}#sk-container-id-13 input.sk-hidden--visually {border: 0;clip: rect(1px 1px 1px 1px);clip: rect(1px, 1px, 1px, 1px);height: 1px;margin: -1px;overflow: hidden;padding: 0;position: absolute;width: 1px;}#sk-container-id-13 div.sk-estimator {font-family: monospace;background-color: #f0f8ff;border: 1px dotted black;border-radius: 0.25em;box-sizing: border-box;margin-bottom: 0.5em;}#sk-container-id-13 div.sk-estimator:hover {background-color: #d4ebff;}#sk-container-id-13 div.sk-parallel-item::after {content: \"\";width: 100%;border-bottom: 1px solid gray;flex-grow: 1;}#sk-container-id-13 div.sk-label:hover label.sk-toggleable__label {background-color: #d4ebff;}#sk-container-id-13 div.sk-serial::before {content: \"\";position: absolute;border-left: 1px solid gray;box-sizing: border-box;top: 0;bottom: 0;left: 50%;z-index: 0;}#sk-container-id-13 div.sk-serial {display: flex;flex-direction: column;align-items: center;background-color: white;padding-right: 0.2em;padding-left: 0.2em;position: relative;}#sk-container-id-13 div.sk-item {position: relative;z-index: 1;}#sk-container-id-13 div.sk-parallel {display: flex;align-items: stretch;justify-content: center;background-color: white;position: relative;}#sk-container-id-13 div.sk-item::before, #sk-container-id-13 div.sk-parallel-item::before {content: \"\";position: absolute;border-left: 1px solid gray;box-sizing: border-box;top: 0;bottom: 0;left: 50%;z-index: -1;}#sk-container-id-13 div.sk-parallel-item {display: flex;flex-direction: column;z-index: 1;position: relative;background-color: white;}#sk-container-id-13 div.sk-parallel-item:first-child::after {align-self: flex-end;width: 50%;}#sk-container-id-13 div.sk-parallel-item:last-child::after {align-self: flex-start;width: 50%;}#sk-container-id-13 div.sk-parallel-item:only-child::after {width: 0;}#sk-container-id-13 div.sk-dashed-wrapped {border: 1px dashed gray;margin: 0 0.4em 0.5em 0.4em;box-sizing: border-box;padding-bottom: 0.4em;background-color: white;}#sk-container-id-13 div.sk-label label {font-family: monospace;font-weight: bold;display: inline-block;line-height: 1.2em;}#sk-container-id-13 div.sk-label-container {text-align: center;}#sk-container-id-13 div.sk-container {/* jupyter's `normalize.less` sets `[hidden] { display: none; }` but bootstrap.min.css set `[hidden] { display: none !important; }` so we also need the `!important` here to be able to override the default hidden behavior on the sphinx rendered scikit-learn.org. See: https://github.com/scikit-learn/scikit-learn/issues/21755 */display: inline-block !important;position: relative;}#sk-container-id-13 div.sk-text-repr-fallback {display: none;}</style><div id=\"sk-container-id-13\" class=\"sk-top-container\"><div class=\"sk-text-repr-fallback\"><pre>RandomForestClassifier(random_state=0)</pre><b>In a Jupyter environment, please rerun this cell to show the HTML representation or trust the notebook. <br />On GitHub, the HTML representation is unable to render, please try loading this page with nbviewer.org.</b></div><div class=\"sk-container\" hidden><div class=\"sk-item\"><div class=\"sk-estimator sk-toggleable\"><input class=\"sk-toggleable__control sk-hidden--visually\" id=\"sk-estimator-id-13\" type=\"checkbox\" checked><label for=\"sk-estimator-id-13\" class=\"sk-toggleable__label sk-toggleable__label-arrow\">RandomForestClassifier</label><div class=\"sk-toggleable__content\"><pre>RandomForestClassifier(random_state=0)</pre></div></div></div></div></div>"
      ],
      "text/plain": [
       "RandomForestClassifier(random_state=0)"
      ]
     },
     "execution_count": 148,
     "metadata": {},
     "output_type": "execute_result"
    }
   ],
   "source": [
    "rfc = RandomForestClassifier(random_state=0)\n",
    "rfc.fit(X_train, y_train)"
   ]
  },
  {
   "cell_type": "code",
   "execution_count": 149,
   "id": "dbf9fdc1",
   "metadata": {},
   "outputs": [],
   "source": [
    "y_pred = rfc.predict(X_test)"
   ]
  },
  {
   "cell_type": "code",
   "execution_count": 150,
   "id": "dcae2b74",
   "metadata": {},
   "outputs": [
    {
     "data": {
      "text/plain": [
       "array(['Normal', 'Noise', 'Normal', ..., 'Noise', 'PVC', 'Noise'],\n",
       "      dtype=object)"
      ]
     },
     "execution_count": 150,
     "metadata": {},
     "output_type": "execute_result"
    }
   ],
   "source": [
    "y_pred"
   ]
  },
  {
   "cell_type": "code",
   "execution_count": 151,
   "id": "36389f6c",
   "metadata": {},
   "outputs": [],
   "source": [
    "from sklearn.metrics import accuracy_score"
   ]
  },
  {
   "cell_type": "code",
   "execution_count": 152,
   "id": "ae498ac8",
   "metadata": {},
   "outputs": [
    {
     "data": {
      "text/plain": [
       "0.9981481481481481"
      ]
     },
     "execution_count": 152,
     "metadata": {},
     "output_type": "execute_result"
    }
   ],
   "source": [
    "accuracy_score(y_test,y_pred)"
   ]
  },
  {
   "cell_type": "code",
   "execution_count": null,
   "id": "a78973b3",
   "metadata": {},
   "outputs": [],
   "source": []
  }
 ],
 "metadata": {
  "kernelspec": {
   "display_name": "Python 3.10.7 64-bit",
   "language": "python",
   "name": "python3"
  },
  "language_info": {
   "codemirror_mode": {
    "name": "ipython",
    "version": 3
   },
   "file_extension": ".py",
   "mimetype": "text/x-python",
   "name": "python",
   "nbconvert_exporter": "python",
   "pygments_lexer": "ipython3",
   "version": "3.10.7"
  },
  "vscode": {
   "interpreter": {
    "hash": "03edd79aebe78b85783a8e15c178a47340433d99d5f7440d866988ef85ab587b"
   }
  }
 },
 "nbformat": 4,
 "nbformat_minor": 5
}
